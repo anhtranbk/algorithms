{
 "cells": [
  {
   "cell_type": "code",
   "execution_count": 34,
   "metadata": {},
   "outputs": [],
   "source": [
    "class Solution:\n",
    "    def removeDuplicates(self, s: str) -> str:\n",
    "        st = []\n",
    "        for i, ch in enumerate(s):\n",
    "            if :\n",
    "                if st[-1][1] > 1:\n",
    "                    for _ in range(st[-1][1]):\n",
    "                        st.pop()\n",
    "                if i+1 < len(s):\n",
    "                    st.append(ch)\n",
    "            if not st:\n",
    "                st.append((ch, 1))\n",
    "            elif st[-1][0] == ch:\n",
    "                st.append((ch, st[-1][1] + 1))\n",
    "            print(ch, st)\n",
    "            return ''.join([e[0] for e in st])"
   ]
  },
  {
   "cell_type": "code",
   "execution_count": 35,
   "metadata": {},
   "outputs": [
    {
     "name": "stdout",
     "output_type": "stream",
     "text": [
      "a [('a', 1)]\n"
     ]
    },
    {
     "data": {
      "text/plain": [
       "'a'"
      ]
     },
     "execution_count": 35,
     "metadata": {},
     "output_type": "execute_result"
    }
   ],
   "source": [
    "Solution().removeDuplicates('abbaca')"
   ]
  },
  {
   "cell_type": "code",
   "execution_count": null,
   "metadata": {},
   "outputs": [],
   "source": []
  }
 ],
 "metadata": {
  "kernelspec": {
   "display_name": "Python 3",
   "language": "python",
   "name": "python3"
  },
  "language_info": {
   "codemirror_mode": {
    "name": "ipython",
    "version": 3
   },
   "file_extension": ".py",
   "mimetype": "text/x-python",
   "name": "python",
   "nbconvert_exporter": "python",
   "pygments_lexer": "ipython3",
   "version": "3.7.3"
  }
 },
 "nbformat": 4,
 "nbformat_minor": 2
}
